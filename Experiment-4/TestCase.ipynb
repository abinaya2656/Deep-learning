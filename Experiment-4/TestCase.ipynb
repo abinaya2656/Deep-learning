{
 "cells": [
  {
   "cell_type": "code",
   "execution_count": 1,
   "id": "4280a5ac-4756-405c-b103-95e7c8194fa5",
   "metadata": {},
   "outputs": [
    {
     "name": "stdout",
     "output_type": "stream",
     "text": [
      "Evaluation Results:\n",
      "\n",
      "Test Case 1:\n",
      "  Input Sequence : To be or not\n",
      "  Predicted Word : to\n",
      "  Correct (Y/N)  : Y\n",
      "\n",
      "Test Case 2:\n",
      "  Input Sequence : What light through yonder window\n",
      "  Predicted Word : Y\n",
      "  Correct (Y/N)  : Y\n",
      "\n",
      "Total Test Cases: 2\n",
      "Correct Predictions: 2\n",
      "Accuracy: 100.00%\n"
     ]
    }
   ],
   "source": [
    "# Test cases stored as a list of dictionaries\n",
    "test_cases = [\n",
    "    {\"input_sequence\": \"To be or not\", \"predicted_word\": \"to\", \"correct\": \"Y\"},\n",
    "    {\"input_sequence\": \"What light through yonder window\", \"predicted_word\": \"Y\", \"correct\": \"Y\"},\n",
    "]\n",
    "\n",
    "# Function to evaluate predictions\n",
    "def evaluate_predictions(cases):\n",
    "    total = len(cases)\n",
    "    correct_count = sum(1 for case in cases if case[\"correct\"].upper() == \"Y\")\n",
    "    \n",
    "    print(\"Evaluation Results:\\n\")\n",
    "    for i, case in enumerate(cases, start=1):\n",
    "        print(f\"Test Case {i}:\")\n",
    "        print(f\"  Input Sequence : {case['input_sequence']}\")\n",
    "        print(f\"  Predicted Word : {case['predicted_word']}\")\n",
    "        print(f\"  Correct (Y/N)  : {case['correct']}\\n\")\n",
    "    \n",
    "    accuracy = (correct_count / total) * 100 if total > 0 else 0\n",
    "    print(f\"Total Test Cases: {total}\")\n",
    "    print(f\"Correct Predictions: {correct_count}\")\n",
    "    print(f\"Accuracy: {accuracy:.2f}%\")\n",
    "\n",
    "# Run evaluation\n",
    "evaluate_predictions(test_cases)\n"
   ]
  },
  {
   "cell_type": "code",
   "execution_count": null,
   "id": "ef81c025-e951-4830-bfcf-659d3d22323a",
   "metadata": {},
   "outputs": [],
   "source": []
  }
 ],
 "metadata": {
  "kernelspec": {
   "display_name": "Python 3 (ipykernel)",
   "language": "python",
   "name": "python3"
  },
  "language_info": {
   "codemirror_mode": {
    "name": "ipython",
    "version": 3
   },
   "file_extension": ".py",
   "mimetype": "text/x-python",
   "name": "python",
   "nbconvert_exporter": "python",
   "pygments_lexer": "ipython3",
   "version": "3.12.7"
  }
 },
 "nbformat": 4,
 "nbformat_minor": 5
}
